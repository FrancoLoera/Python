{
 "cells": [
  {
   "cell_type": "markdown",
   "metadata": {},
   "source": [
    "# Este es el título principal. Se coloca utilizando '#'"
   ]
  },
  {
   "cell_type": "code",
   "execution_count": 1,
   "metadata": {},
   "outputs": [
    {
     "name": "stdout",
     "output_type": "stream",
     "text": [
      "Esta es una impresión cualquiera \n"
     ]
    }
   ],
   "source": [
    "print(\"Esta es una impresión cualquiera \")"
   ]
  },
  {
   "cell_type": "markdown",
   "metadata": {},
   "source": [
    "Este es un subtítulo. Se coloca utilizando '##'"
   ]
  },
  {
   "cell_type": "code",
   "execution_count": 2,
   "metadata": {},
   "outputs": [
    {
     "name": "stdout",
     "output_type": "stream",
     "text": [
      "Esta es la iteración 1 de un ciclo cualquiera.\n",
      "Esta es la iteración 2 de un ciclo cualquiera.\n",
      "Esta es la iteración 3 de un ciclo cualquiera.\n",
      "Esta es la iteración 4 de un ciclo cualquiera.\n",
      "Esta es la iteración 5 de un ciclo cualquiera.\n"
     ]
    }
   ],
   "source": [
    "for i in range(5):\n",
    "    print(f\"Esta es la iteración {i + 1} de un ciclo cualquiera.\")"
   ]
  },
  {
   "cell_type": "markdown",
   "metadata": {},
   "source": [
    "Los siguientes elementos de lista se generan mediante el uso de '*' \n",
    "* Elemento 1.\n",
    "* Elemento 2.\n",
    "* Elemento 3."
   ]
  }
 ],
 "metadata": {
  "kernelspec": {
   "display_name": "Python 3",
   "language": "python",
   "name": "python3"
  },
  "language_info": {
   "codemirror_mode": {
    "name": "ipython",
    "version": 3
   },
   "file_extension": ".py",
   "mimetype": "text/x-python",
   "name": "python",
   "nbconvert_exporter": "python",
   "pygments_lexer": "ipython3",
   "version": "3.13.1"
  }
 },
 "nbformat": 4,
 "nbformat_minor": 2
}
