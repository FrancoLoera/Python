{
 "cells": [
  {
   "cell_type": "code",
   "execution_count": 3,
   "metadata": {},
   "outputs": [
    {
     "data": {
      "application/vnd.jupyter.widget-view+json": {
       "model_id": "5194a532b9844dd7bb4d95a46481145c",
       "version_major": 2,
       "version_minor": 0
      },
      "text/plain": [
       "Text(value='', description='Name:')"
      ]
     },
     "metadata": {},
     "output_type": "display_data"
    },
    {
     "data": {
      "application/vnd.jupyter.widget-view+json": {
       "model_id": "517c54b143964029b6288ca221c8af34",
       "version_major": 2,
       "version_minor": 0
      },
      "text/plain": [
       "IntSlider(value=0, description='Age:', max=120)"
      ]
     },
     "metadata": {},
     "output_type": "display_data"
    },
    {
     "data": {
      "application/vnd.jupyter.widget-view+json": {
       "model_id": "985dc8cd01664a9984bd40a5ea3ece35",
       "version_major": 2,
       "version_minor": 0
      },
      "text/plain": [
       "Button(description='Continue', style=ButtonStyle())"
      ]
     },
     "metadata": {},
     "output_type": "display_data"
    }
   ],
   "source": [
    "import ipywidgets as widgets\n",
    "from IPython.display import display\n",
    "\n",
    "# Initialize variables\n",
    "name_input = None\n",
    "age_input = None\n",
    "\n",
    "def set_name(name):\n",
    "    return name\n",
    "\n",
    "def set_age(age):\n",
    "    return age\n",
    "\n",
    "def print_person(_):\n",
    "    print(f\"Name: {name_input.value}, Age: {age_input.value}\")\n",
    "\n",
    "name_input = widgets.Text(description=\"Name:\")\n",
    "age_input = widgets.IntSlider(description=\"Age:\", min=0, max=120, step=1)\n",
    "\n",
    "name_input.observe(lambda change: set_name(change['new']), names='value')\n",
    "age_input.observe(lambda change: set_age(change['new']), names='value')\n",
    "\n",
    "display(name_input)\n",
    "display(age_input)\n",
    "\n",
    "continue_button = widgets.Button(description=\"Continue\")\n",
    "continue_button.on_click(print_person)\n",
    "display(continue_button)"
   ]
  }
 ],
 "metadata": {
  "kernelspec": {
   "display_name": "Python 3",
   "language": "python",
   "name": "python3"
  },
  "language_info": {
   "codemirror_mode": {
    "name": "ipython",
    "version": 3
   },
   "file_extension": ".py",
   "mimetype": "text/x-python",
   "name": "python",
   "nbconvert_exporter": "python",
   "pygments_lexer": "ipython3",
   "version": "3.13.1"
  }
 },
 "nbformat": 4,
 "nbformat_minor": 2
}
